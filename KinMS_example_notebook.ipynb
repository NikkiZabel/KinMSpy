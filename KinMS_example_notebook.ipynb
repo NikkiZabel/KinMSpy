{
 "cells": [
  {
   "cell_type": "markdown",
   "metadata": {},
   "source": [
    "<img style=\"float:top,right\" src=\"Logo.png\" width=\"400\">\n",
    "\n",
    "<br><br>\n",
    "\n",
    "# Welcome to the KinMS example notebook  \n",
    "\n",
    "<br><br>\n",
    "\n",
    "### Here you will learn how to import and use KinMS to generate interferometric data cubes and gain a better understanding of using the functionalities within the package.\n",
    "\n",
    "---\n",
    "\n",
    "Copyright (C) 2016, Timothy A. Davis\n",
    "E-mail: DavisT -at- cardiff.ac.uk\n",
    "\n",
    "---\n"
   ]
  },
  {
   "cell_type": "markdown",
   "metadata": {},
   "source": [
    "### HOUSEKEEPING"
   ]
  },
  {
   "cell_type": "markdown",
   "metadata": {},
   "source": [
    "Firstly, we want to import the KinMS package and instantiate the class so that we can freely use it throughout this example notebook."
   ]
  },
  {
   "cell_type": "code",
   "execution_count": 1,
   "metadata": {},
   "outputs": [],
   "source": [
    "from KinMS import KinMS"
   ]
  },
  {
   "cell_type": "markdown",
   "metadata": {},
   "source": [
    "Instantiate the model"
   ]
  },
  {
   "cell_type": "code",
   "execution_count": 2,
   "metadata": {},
   "outputs": [],
   "source": [
    "f = KinMS()"
   ]
  },
  {
   "cell_type": "markdown",
   "metadata": {},
   "source": [
    "Lastly we're going to need some more basic Python packages as well as the premade colourmap for viewing velocity maps found in $\\texttt{sauron_colormap}$"
   ]
  },
  {
   "cell_type": "code",
   "execution_count": 3,
   "metadata": {},
   "outputs": [],
   "source": [
    "import numpy as np\n",
    "import matplotlib.pyplot as plt\n",
    "from sauron_colormap import sauron"
   ]
  },
  {
   "cell_type": "markdown",
   "metadata": {},
   "source": [
    "---\n",
    "\n",
    "## Example 1.\n",
    "\n",
    "### Lets try making a data cube by providing the class with the physical attributes necessary for descibing a simple exponential disk. "
   ]
  },
  {
   "cell_type": "markdown",
   "metadata": {},
   "source": [
    "First lets start by creating a surface brightness profile which decays radially  "
   ]
  },
  {
   "cell_type": "code",
   "execution_count": 4,
   "metadata": {},
   "outputs": [],
   "source": [
    "extent = 64\n",
    "scale_length = extent/4\n",
    "x = np.arange(0,extent,0.01)\n",
    "fx = np.exp(-x/scale_length)"
   ]
  },
  {
   "cell_type": "markdown",
   "metadata": {},
   "source": [
    "Next, lets make the velocity profile as a function of radius $\\text{v}(\\text{r})=\\sqrt{\\text{r}}$"
   ]
  },
  {
   "cell_type": "code",
   "execution_count": 5,
   "metadata": {},
   "outputs": [],
   "source": [
    "velrad = x\n",
    "vel = np.sqrt(velrad)"
   ]
  },
  {
   "cell_type": "markdown",
   "metadata": {},
   "source": [
    "Although not necessary, we may also wish to provide our class with the position angle and inclination angle of our galaxy. We do that here by defining $\\texttt{pos}$ and $\\texttt{inc}$ respectively."
   ]
  },
  {
   "cell_type": "code",
   "execution_count": 6,
   "metadata": {},
   "outputs": [],
   "source": [
    "pos = 5\n",
    "inc= 75"
   ]
  },
  {
   "cell_type": "markdown",
   "metadata": {},
   "source": [
    "Now we need to define the properties of the data cube which we would like to return, including the physical dimensions, channel width, and beam size."
   ]
  },
  {
   "cell_type": "code",
   "execution_count": 7,
   "metadata": {},
   "outputs": [],
   "source": [
    "xsize=128\n",
    "ysize=128\n",
    "vsize=640\n",
    "cellsize=1.0\n",
    "dv=10\n",
    "beamsize=[4.,4.,0.]"
   ]
  },
  {
   "cell_type": "markdown",
   "metadata": {},
   "source": [
    "Finally, we provide all of the parameters defined above to the class which returns the modelled data cube. "
   ]
  },
  {
   "cell_type": "code",
   "execution_count": 8,
   "metadata": {},
   "outputs": [],
   "source": [
    "cube = f(xsize,ysize,vsize,cellsize,dv,beamSize=beamsize,inc=inc,sbProf=fx,\n",
    "             sbRad=x,velProf=vel,velRad=x,posAng=pos,verbose=False)        "
   ]
  },
  {
   "cell_type": "markdown",
   "metadata": {},
   "source": [
    "If we sum the datacube along the velocity axis we can get a good idea of the shape of the galaxy we just created. "
   ]
  },
  {
   "cell_type": "code",
   "execution_count": 15,
   "metadata": {},
   "outputs": [
    {
     "data": {
      "text/plain": [
       "<matplotlib.image.AxesImage at 0x7f67cdfb2240>"
      ]
     },
     "execution_count": 15,
     "metadata": {},
     "output_type": "execute_result"
    },
    {
     "data": {
      "image/png": "[encoded data removed]",
      "text/plain": [
       "<Figure size 432x288 with 1 Axes>"
      ]
     },
     "metadata": {
      "needs_background": "light"
     },
     "output_type": "display_data"
    }
   ],
   "source": [
    "flattened = cube.sum(axis=2)\n",
    "plt.figure()\n",
    "plt.imshow(flattened,cmap='inferno')"
   ]
  },
  {
   "cell_type": "markdown",
   "metadata": {},
   "source": [
    "---\n",
    "\n",
    "## Example 2.\n"
   ]
  },
  {
   "cell_type": "code",
   "execution_count": null,
   "metadata": {},
   "outputs": [],
   "source": []
  }
 ],
 "metadata": {
  "kernelspec": {
   "display_name": "Python 3",
   "language": "python",
   "name": "python3"
  },
  "language_info": {
   "codemirror_mode": {
    "name": "ipython",
    "version": 3
   },
   "file_extension": ".py",
   "mimetype": "text/x-python",
   "name": "python",
   "nbconvert_exporter": "python",
   "pygments_lexer": "ipython3",
   "version": "3.7.3"
  }
 },
 "nbformat": 4,
 "nbformat_minor": 2
}
