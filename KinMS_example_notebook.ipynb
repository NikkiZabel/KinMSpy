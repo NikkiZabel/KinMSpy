{
 "cells": [
  {
   "cell_type": "markdown",
   "metadata": {},
   "source": [
    "<img style=\"float:top,right\" src=\"Logo.png\" width=\"400\">\n",
    "\n",
    "<br><br>\n",
    "\n",
    "# Welcome to the KinMS example notebook  \n",
    "\n",
    "<br><br>\n",
    "\n",
    "### Here you will learn how to import and use KinMS to generate interferometric data cubes and gain a better understanding of using the functionalities within the package.\n",
    "\n",
    "---\n",
    "\n",
    "Copyright (C) 2016, Timothy A. Davis\n",
    "E-mail: DavisT -at- cardiff.ac.uk\n",
    "\n",
    "---\n"
   ]
  },
  {
   "cell_type": "markdown",
   "metadata": {},
   "source": [
    "### HOUSEKEEPING"
   ]
  },
  {
   "cell_type": "markdown",
   "metadata": {},
   "source": [
    "Firstly, we want to import the KinMS package and instantiate the class so that we can freely use it throughout this example notebook."
   ]
  },
  {
   "cell_type": "code",
   "execution_count": 1,
   "metadata": {},
   "outputs": [],
   "source": [
    "from TimMS import KinMS"
   ]
  },
  {
   "cell_type": "markdown",
   "metadata": {},
   "source": [
    "Instantiate the model"
   ]
  },
  {
   "cell_type": "code",
   "execution_count": 2,
   "metadata": {},
   "outputs": [],
   "source": [
    "f = KinMS()"
   ]
  },
  {
   "cell_type": "markdown",
   "metadata": {},
   "source": [
    "Lastly we're going to need some more basic Python packages as well as the premade colourmap for viewing velocity maps found in $\\texttt{sauron_colormap}$"
   ]
  },
  {
   "cell_type": "code",
   "execution_count": 3,
   "metadata": {},
   "outputs": [],
   "source": [
    "import numpy as np\n",
    "import matplotlib.pyplot as plt\n",
    "from scipy import interpolate\n",
    "from sauron_colormap import sauron"
   ]
  },
  {
   "cell_type": "markdown",
   "metadata": {},
   "source": [
    "---\n",
    "\n",
    "## Example 1.\n",
    "\n",
    "### Lets try making a data cube by providing the class with the physical attributes necessary for descibing a simple exponential disk. "
   ]
  },
  {
   "cell_type": "markdown",
   "metadata": {},
   "source": [
    "First lets start by creating a surface brightness profile which decays radially."
   ]
  },
  {
   "cell_type": "code",
   "execution_count": 4,
   "metadata": {},
   "outputs": [],
   "source": [
    "scalerad = 10.\n",
    "x=np.arange(0, 100, 0.1)\n",
    "fx = np.exp(-x / scalerad)"
   ]
  },
  {
   "cell_type": "markdown",
   "metadata": {},
   "source": [
    "Next, lets make the velocity profile."
   ]
  },
  {
   "cell_type": "code",
   "execution_count": 5,
   "metadata": {},
   "outputs": [],
   "source": [
    "vel = np.arctan(x)\n",
    "vel*=(210 / vel.max()) # Scaling the maximum velocity to 210 km/s"
   ]
  },
  {
   "cell_type": "markdown",
   "metadata": {},
   "source": [
    "Although not necessary, we may also wish to provide our class with the position angle and inclination angle of our galaxy. We do that here by defining $\\texttt{pos}$ and $\\texttt{inc}$ respectively."
   ]
  },
  {
   "cell_type": "code",
   "execution_count": 6,
   "metadata": {},
   "outputs": [],
   "source": [
    "pos = 90\n",
    "inc= 45"
   ]
  },
  {
   "cell_type": "markdown",
   "metadata": {},
   "source": [
    "Now we need to define the properties of the data cube which we would like to return, including the physical dimensions, channel width, and beam size."
   ]
  },
  {
   "cell_type": "code",
   "execution_count": 14,
   "metadata": {},
   "outputs": [],
   "source": [
    "xsize=128\n",
    "ysize=128\n",
    "vsize=1400\n",
    "cellsize=1\n",
    "dv=10\n",
    "beamsize=[4., 4., 0.]"
   ]
  },
  {
   "cell_type": "markdown",
   "metadata": {},
   "source": [
    "Finally, we provide all of the parameters defined above to the class which returns the modelled data cube. "
   ]
  },
  {
   "cell_type": "code",
   "execution_count": 15,
   "metadata": {},
   "outputs": [],
   "source": [
    "cube = f(xsize,ysize,vsize,cellsize,dv,beamSize=beamsize,inc=inc,sbProf=fx,\n",
    "             sbRad=x,velProf=vel, posAng=pos,verbose=False)        "
   ]
  },
  {
   "cell_type": "markdown",
   "metadata": {},
   "source": [
    "If we create moment 0 and moment 1 maps from the datacube we can get a good idea of the shape and velocity characteristics of the galaxy we just created. To do this, we'll create a plotting routine function that we can use throughout this script. "
   ]
  },
  {
   "cell_type": "code",
   "execution_count": 18,
   "metadata": {},
   "outputs": [],
   "source": [
    "def plotting_routine(cube, dv, vel):\n",
    "    \n",
    "    cube[cube < 1*cube.std()] = np.nan\n",
    "    \n",
    "    mom0 = np.nansum(cube, axis=2)\n",
    "    mom0[mom0 == 0] = np.nan\n",
    "    mom1 = np.nansum((cube*np.linspace(vel.min(), vel.max(), cube.shape[2])), axis=2) / np.nansum(cube, axis=2)\n",
    "    \n",
    "    fig, axs = plt.subplots(1, 2)\n",
    "    axs[0].imshow(mom0, cmap='magma_r')\n",
    "    axs[1].imshow(mom1, cmap=sauron)"
   ]
  },
  {
   "cell_type": "code",
   "execution_count": 19,
   "metadata": {},
   "outputs": [
    {
     "data": {
      "image/png": "[encoded data removed]",
      "text/plain": [
       "<Figure size 432x288 with 2 Axes>"
      ]
     },
     "metadata": {
      "needs_background": "light"
     },
     "output_type": "display_data"
    }
   ],
   "source": [
    "plotting_routine(cube,10,vel)"
   ]
  },
  {
   "cell_type": "markdown",
   "metadata": {},
   "source": [
    "---\n",
    "\n",
    "## Example 2.\n"
   ]
  },
  {
   "cell_type": "code",
   "execution_count": null,
   "metadata": {},
   "outputs": [],
   "source": []
  }
 ],
 "metadata": {
  "kernelspec": {
   "display_name": "Python 3",
   "language": "python",
   "name": "python3"
  },
  "language_info": {
   "codemirror_mode": {
    "name": "ipython",
    "version": 3
   },
   "file_extension": ".py",
   "mimetype": "text/x-python",
   "name": "python",
   "nbconvert_exporter": "python",
   "pygments_lexer": "ipython3",
   "version": "3.7.3"
  }
 },
 "nbformat": 4,
 "nbformat_minor": 2
}
